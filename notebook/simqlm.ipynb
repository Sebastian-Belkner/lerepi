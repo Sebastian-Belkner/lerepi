{
 "cells": [
  {
   "cell_type": "code",
   "execution_count": 1,
   "id": "c2c395a3-b3b3-41dc-9a4a-0b67602cdce3",
   "metadata": {},
   "outputs": [
    {
     "name": "stdout",
     "output_type": "stream",
     "text": [
      "could not setup healpix hack. reverting to standard healpy\n"
     ]
    },
    {
     "name": "stderr",
     "output_type": "stream",
     "text": [
      "/global/homes/s/sebibel/.local/cori/3.8-anaconda-2020.11/lib/python3.8/site-packages/healpy-1.14.0-py3.8-linux-x86_64.egg/healpy/fitsfunc.py:368: UserWarning: If you are not specifying the input dtype and using the default np.float64 dtype of read_map(), please consider that it will change in a future version to None as to keep the same dtype of the input file: please explicitly set the dtype if it is important to you.\n",
      "  warnings.warn(\n",
      "/global/homes/s/sebibel/.local/cori/3.8-anaconda-2020.11/lib/python3.8/site-packages/healpy-1.14.0-py3.8-linux-x86_64.egg/healpy/fitsfunc.py:391: UserWarning: NSIDE = 2048\n",
      "  warnings.warn(\"NSIDE = {0:d}\".format(nside))\n",
      "/global/homes/s/sebibel/.local/cori/3.8-anaconda-2020.11/lib/python3.8/site-packages/healpy-1.14.0-py3.8-linux-x86_64.egg/healpy/fitsfunc.py:400: UserWarning: ORDERING = RING in fits file\n",
      "  warnings.warn(\"ORDERING = {0:s} in fits file\".format(ordering))\n",
      "/global/homes/s/sebibel/.local/cori/3.8-anaconda-2020.11/lib/python3.8/site-packages/healpy-1.14.0-py3.8-linux-x86_64.egg/healpy/fitsfunc.py:426: UserWarning: No INDXSCHM keyword in header file : assume IMPLICIT\n",
      "  warnings.warn(\"No INDXSCHM keyword in header file : \" \"assume {}\".format(schm))\n",
      "/global/homes/s/sebibel/.local/cori/3.8-anaconda-2020.11/lib/python3.8/site-packages/healpy-1.14.0-py3.8-linux-x86_64.egg/healpy/fitsfunc.py:428: UserWarning: INDXSCHM = IMPLICIT\n",
      "  warnings.warn(\"INDXSCHM = {0:s}\".format(schm))\n"
     ]
    },
    {
     "name": "stdout",
     "output_type": "stream",
     "text": [
      "[[0, ['diag_cl'], 3000, 2048, inf, 0.001, <function <lambda> at 0x2aaadbe073a0>, {}]]\n",
      "jit: instantiating ctype = <class 'plancklens.qcinv.multigrid.multigrid_chain'>\n",
      "jit: instantiating ctype = <class 'itercurv.bmodes_ninv.eblm_filter_ninv'>\n",
      "opfilt_pp: Pol. inverse noise map std dev / av = 0.000e+00\n",
      "ninv_febl: using 0.42 uK-amin noise Cl\n",
      "Loading /global/project/projectdirs/cmbs4/awg/lowellbb/reanalysis/mapphi_intermediate/s08b/tniti.npy\n",
      "**** RESCALING tiniti with 1.44\n",
      "(2048, 3000) [00:01:18] (0, 1.00000000)\n",
      "(2048, 3000) [00:02:11] (1, 0.01293634)\n",
      "(2048, 3000) [00:03:01] (2, 0.00569874)\n",
      "(2048, 3000) [00:03:52] (3, 0.00346012)\n",
      "(2048, 3000) [00:04:43] (4, 0.00257391)\n",
      "(2048, 3000) [00:05:32] (5, 0.00182301)\n",
      "(2048, 3000) [00:06:23] (6, 0.00149445)\n",
      "(2048, 3000) [00:07:12] (7, 0.00120876)\n",
      "(2048, 3000) [00:08:00] (8, 0.00093712)\n",
      "0 done.\n"
     ]
    }
   ],
   "source": [
    "import sys\n",
    "import lerepi.params.s90b91.par_90b91_cILC_4000 as par\n",
    "\n",
    "# sim_id = int(sys.argv[1])\n",
    "for sim_id in range(par.nsims):\n",
    "    par.qlms_dd.get_sim_qlm('p_p', sim_id)\n",
    "    print('{} done.'.format(sim_id))"
   ]
  },
  {
   "cell_type": "code",
   "execution_count": 5,
   "id": "2d32a0a7-017f-43fb-8609-9380c2570d69",
   "metadata": {},
   "outputs": [
    {
     "name": "stdout",
     "output_type": "stream",
     "text": [
      "Starting from 0\n"
     ]
    },
    {
     "ename": "NameError",
     "evalue": "name 'fn' is not defined",
     "output_type": "error",
     "traceback": [
      "\u001b[0;31m---------------------------------------------------------------------------\u001b[0m",
      "\u001b[0;31mNameError\u001b[0m                                 Traceback (most recent call last)",
      "\u001b[0;32m<ipython-input-5-340f766d0e61>\u001b[0m in \u001b[0;36m<module>\u001b[0;34m\u001b[0m\n\u001b[1;32m      4\u001b[0m \u001b[0mprint\u001b[0m\u001b[0;34m(\u001b[0m\u001b[0;34m\"Starting from {}\"\u001b[0m\u001b[0;34m.\u001b[0m\u001b[0mformat\u001b[0m\u001b[0;34m(\u001b[0m\u001b[0;36m0\u001b[0m\u001b[0;34m)\u001b[0m\u001b[0;34m)\u001b[0m\u001b[0;34m\u001b[0m\u001b[0;34m\u001b[0m\u001b[0m\n\u001b[1;32m      5\u001b[0m \u001b[0;32mfor\u001b[0m \u001b[0menum\u001b[0m\u001b[0;34m,\u001b[0m \u001b[0mmc\u001b[0m \u001b[0;32min\u001b[0m \u001b[0menumerate\u001b[0m\u001b[0;34m(\u001b[0m\u001b[0mmcsbtemp\u001b[0m\u001b[0;34m)\u001b[0m\u001b[0;34m:\u001b[0m\u001b[0;34m\u001b[0m\u001b[0;34m\u001b[0m\u001b[0m\n\u001b[0;32m----> 6\u001b[0;31m     \u001b[0;32mif\u001b[0m \u001b[0mos\u001b[0m\u001b[0;34m.\u001b[0m\u001b[0mpath\u001b[0m\u001b[0;34m.\u001b[0m\u001b[0mexists\u001b[0m\u001b[0;34m(\u001b[0m\u001b[0mfn\u001b[0m\u001b[0;34m(\u001b[0m\u001b[0mmc\u001b[0m\u001b[0;34m)\u001b[0m\u001b[0;34m)\u001b[0m\u001b[0;34m:\u001b[0m\u001b[0;34m\u001b[0m\u001b[0;34m\u001b[0m\u001b[0m\n\u001b[0m\u001b[1;32m      7\u001b[0m         \u001b[0mb_lm\u001b[0m \u001b[0;34m=\u001b[0m \u001b[0mutils\u001b[0m\u001b[0;34m.\u001b[0m\u001b[0malm_copy\u001b[0m\u001b[0;34m(\u001b[0m\u001b[0mplanck2018_sims\u001b[0m\u001b[0;34m.\u001b[0m\u001b[0mcmb_len_ffp10\u001b[0m\u001b[0;34m.\u001b[0m\u001b[0mget_sim_blm\u001b[0m\u001b[0;34m(\u001b[0m\u001b[0mmc\u001b[0m\u001b[0;34m)\u001b[0m\u001b[0;34m,\u001b[0m \u001b[0mlmax\u001b[0m\u001b[0;34m=\u001b[0m\u001b[0;36m2048\u001b[0m\u001b[0;34m)\u001b[0m\u001b[0;34m\u001b[0m\u001b[0;34m\u001b[0m\u001b[0m\n\u001b[1;32m      8\u001b[0m         \u001b[0msim_lm\u001b[0m \u001b[0;34m=\u001b[0m \u001b[0mhp\u001b[0m\u001b[0;34m.\u001b[0m\u001b[0mread_alm\u001b[0m\u001b[0;34m(\u001b[0m\u001b[0mfn\u001b[0m\u001b[0;34m(\u001b[0m\u001b[0mmc\u001b[0m\u001b[0;34m)\u001b[0m\u001b[0;34m)\u001b[0m\u001b[0;34m\u001b[0m\u001b[0;34m\u001b[0m\u001b[0m\n",
      "\u001b[0;31mNameError\u001b[0m: name 'fn' is not defined"
     ]
    }
   ],
   "source": [
    "import numpy as np\n",
    "import os\n",
    "mcsbtemp = np.arange(0, 1)\n",
    "print(\"Starting from {}\".format(0))\n",
    "for enum, mc in enumerate(mcsbtemp):\n",
    "    if os.path.exists(fn(mc)):\n",
    "        b_lm = utils.alm_copy(planck2018_sims.cmb_len_ffp10.get_sim_blm(mc), lmax=2048)\n",
    "        sim_lm = hp.read_alm(fn(mc))\n",
    "#         sim_lm = hp.read_alm(paths[idx])\n",
    "        store.update({mc: pu.get_bb_amplitude(mask, cls_len, sim_lm, b_lm, zbounds=zbounds_len)})\n",
    "#         buffer = np.append(buffer, pu.get_bb_amplitude(mask, cls_len, sim_lm, b_lm, zbounds=zbounds_len))\n",
    "    else:\n",
    "        print(\"{} doesn't exist\".format(fn(mc)))\n",
    "    print('mc {}/{} done'.format(mc,len(mcs)))"
   ]
  },
  {
   "cell_type": "code",
   "execution_count": null,
   "id": "f4aa2152-3f89-49da-bf1b-32e2ba079d38",
   "metadata": {},
   "outputs": [],
   "source": []
  }
 ],
 "metadata": {
  "kernelspec": {
   "display_name": "pyenv",
   "language": "python",
   "name": "pyenv"
  },
  "language_info": {
   "codemirror_mode": {
    "name": "ipython",
    "version": 3
   },
   "file_extension": ".py",
   "mimetype": "text/x-python",
   "name": "python",
   "nbconvert_exporter": "python",
   "pygments_lexer": "ipython3",
   "version": "3.8.5"
  }
 },
 "nbformat": 4,
 "nbformat_minor": 5
}
